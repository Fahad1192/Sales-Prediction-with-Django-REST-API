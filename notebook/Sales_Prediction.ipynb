{
 "cells": [
  {
   "cell_type": "code",
   "execution_count": 1,
   "metadata": {},
   "outputs": [],
   "source": [
    "import numpy as np\n",
    "import matplotlib.pyplot as plt\n",
    "import pandas as pd\n",
    "from sklearn import pipeline,preprocessing,metrics,model_selection,ensemble\n",
    "from sklearn.externals import joblib"
   ]
  },
  {
   "cell_type": "code",
   "execution_count": 9,
   "metadata": {},
   "outputs": [],
   "source": [
    "# Importing the dataset\n",
    "dataset = pd.read_csv('SalesData.csv')\n",
    "X = dataset.iloc[:, 1:2].values\n",
    "y = dataset.iloc[:, 6:7].values\n"
   ]
  },
  {
   "cell_type": "code",
   "execution_count": 10,
   "metadata": {},
   "outputs": [
    {
     "data": {
      "text/html": [
       "<div>\n",
       "<style scoped>\n",
       "    .dataframe tbody tr th:only-of-type {\n",
       "        vertical-align: middle;\n",
       "    }\n",
       "\n",
       "    .dataframe tbody tr th {\n",
       "        vertical-align: top;\n",
       "    }\n",
       "\n",
       "    .dataframe thead th {\n",
       "        text-align: right;\n",
       "    }\n",
       "</style>\n",
       "<table border=\"1\" class=\"dataframe\">\n",
       "  <thead>\n",
       "    <tr style=\"text-align: right;\">\n",
       "      <th></th>\n",
       "      <th>StoreID</th>\n",
       "      <th>Week</th>\n",
       "      <th>Week_start</th>\n",
       "      <th>Week_end</th>\n",
       "      <th>Count</th>\n",
       "      <th>Sum_Gross Margin</th>\n",
       "      <th>Sum_Sales</th>\n",
       "      <th>Sq_Ft</th>\n",
       "      <th>AvgMonthSales</th>\n",
       "    </tr>\n",
       "  </thead>\n",
       "  <tbody>\n",
       "    <tr>\n",
       "      <th>0</th>\n",
       "      <td>10018</td>\n",
       "      <td>1</td>\n",
       "      <td>2/6/2015</td>\n",
       "      <td>2/12/2015</td>\n",
       "      <td>552</td>\n",
       "      <td>2213.39</td>\n",
       "      <td>4741.48</td>\n",
       "      <td>1183</td>\n",
       "      <td>18000</td>\n",
       "    </tr>\n",
       "    <tr>\n",
       "      <th>1</th>\n",
       "      <td>10018</td>\n",
       "      <td>2</td>\n",
       "      <td>2/13/2015</td>\n",
       "      <td>2/19/2015</td>\n",
       "      <td>542</td>\n",
       "      <td>2164.69</td>\n",
       "      <td>4571.25</td>\n",
       "      <td>1183</td>\n",
       "      <td>18000</td>\n",
       "    </tr>\n",
       "    <tr>\n",
       "      <th>2</th>\n",
       "      <td>10018</td>\n",
       "      <td>3</td>\n",
       "      <td>2/20/2015</td>\n",
       "      <td>2/26/2015</td>\n",
       "      <td>378</td>\n",
       "      <td>1561.42</td>\n",
       "      <td>3348.25</td>\n",
       "      <td>1183</td>\n",
       "      <td>18000</td>\n",
       "    </tr>\n",
       "    <tr>\n",
       "      <th>3</th>\n",
       "      <td>10018</td>\n",
       "      <td>4</td>\n",
       "      <td>2/27/2015</td>\n",
       "      <td>3/5/2015</td>\n",
       "      <td>576</td>\n",
       "      <td>2343.62</td>\n",
       "      <td>5114.96</td>\n",
       "      <td>1183</td>\n",
       "      <td>18000</td>\n",
       "    </tr>\n",
       "    <tr>\n",
       "      <th>4</th>\n",
       "      <td>10018</td>\n",
       "      <td>5</td>\n",
       "      <td>3/6/2015</td>\n",
       "      <td>3/12/2015</td>\n",
       "      <td>523</td>\n",
       "      <td>2200.00</td>\n",
       "      <td>4799.48</td>\n",
       "      <td>1183</td>\n",
       "      <td>18000</td>\n",
       "    </tr>\n",
       "  </tbody>\n",
       "</table>\n",
       "</div>"
      ],
      "text/plain": [
       "   StoreID  Week Week_start   Week_end  Count  Sum_Gross Margin  Sum_Sales  \\\n",
       "0    10018     1   2/6/2015  2/12/2015    552           2213.39    4741.48   \n",
       "1    10018     2  2/13/2015  2/19/2015    542           2164.69    4571.25   \n",
       "2    10018     3  2/20/2015  2/26/2015    378           1561.42    3348.25   \n",
       "3    10018     4  2/27/2015   3/5/2015    576           2343.62    5114.96   \n",
       "4    10018     5   3/6/2015  3/12/2015    523           2200.00    4799.48   \n",
       "\n",
       "   Sq_Ft  AvgMonthSales  \n",
       "0   1183          18000  \n",
       "1   1183          18000  \n",
       "2   1183          18000  \n",
       "3   1183          18000  \n",
       "4   1183          18000  "
      ]
     },
     "execution_count": 10,
     "metadata": {},
     "output_type": "execute_result"
    }
   ],
   "source": [
    "dataset.head()"
   ]
  },
  {
   "cell_type": "markdown",
   "metadata": {},
   "source": [
    "## Training the model with full dataset"
   ]
  },
  {
   "cell_type": "code",
   "execution_count": 11,
   "metadata": {},
   "outputs": [
    {
     "name": "stderr",
     "output_type": "stream",
     "text": [
      "C:\\Users\\User\\Anaconda3\\lib\\site-packages\\ipykernel_launcher.py:3: DataConversionWarning: A column-vector y was passed when a 1d array was expected. Please change the shape of y to (n_samples,), for example using ravel().\n",
      "  This is separate from the ipykernel package so we can avoid doing imports until\n"
     ]
    },
    {
     "data": {
      "text/plain": [
       "RandomForestRegressor(bootstrap=True, criterion='mse', max_depth=None,\n",
       "           max_features='auto', max_leaf_nodes=None,\n",
       "           min_impurity_decrease=0.0, min_impurity_split=None,\n",
       "           min_samples_leaf=1, min_samples_split=2,\n",
       "           min_weight_fraction_leaf=0.0, n_estimators=10, n_jobs=None,\n",
       "           oob_score=False, random_state=0, verbose=0, warm_start=False)"
      ]
     },
     "execution_count": 11,
     "metadata": {},
     "output_type": "execute_result"
    }
   ],
   "source": [
    "from sklearn.ensemble import RandomForestRegressor\n",
    "regressor = RandomForestRegressor(n_estimators = 10, random_state = 0)\n",
    "regressor.fit(X, y)"
   ]
  },
  {
   "cell_type": "markdown",
   "metadata": {},
   "source": [
    "## Predict the new result"
   ]
  },
  {
   "cell_type": "code",
   "execution_count": 12,
   "metadata": {},
   "outputs": [
    {
     "data": {
      "text/plain": [
       "array([3442.174])"
      ]
     },
     "execution_count": 12,
     "metadata": {},
     "output_type": "execute_result"
    }
   ],
   "source": [
    "regressor.predict([[77]])"
   ]
  },
  {
   "cell_type": "code",
   "execution_count": 13,
   "metadata": {},
   "outputs": [
    {
     "data": {
      "text/plain": [
       "Index(['StoreID', 'Week', 'Week_start', 'Week_end', 'Count',\n",
       "       'Sum_Gross Margin', 'Sum_Sales', 'Sq_Ft', 'AvgMonthSales'],\n",
       "      dtype='object')"
      ]
     },
     "execution_count": 13,
     "metadata": {},
     "output_type": "execute_result"
    }
   ],
   "source": [
    "dataset.columns"
   ]
  },
  {
   "cell_type": "code",
   "execution_count": 14,
   "metadata": {},
   "outputs": [],
   "source": [
    "pipeline_obj = pipeline.Pipeline([\n",
    "    (\"model\", RandomForestRegressor())\n",
    "])"
   ]
  },
  {
   "cell_type": "code",
   "execution_count": 15,
   "metadata": {},
   "outputs": [],
   "source": [
    "X = ['Week']\n",
    "y = ['Sum_Sales']"
   ]
  },
  {
   "cell_type": "code",
   "execution_count": 16,
   "metadata": {},
   "outputs": [
    {
     "name": "stderr",
     "output_type": "stream",
     "text": [
      "C:\\Users\\User\\Anaconda3\\lib\\site-packages\\sklearn\\ensemble\\forest.py:246: FutureWarning: The default value of n_estimators will change from 10 in version 0.20 to 100 in 0.22.\n",
      "  \"10 in version 0.20 to 100 in 0.22.\", FutureWarning)\n",
      "C:\\Users\\User\\Anaconda3\\lib\\site-packages\\sklearn\\pipeline.py:267: DataConversionWarning: A column-vector y was passed when a 1d array was expected. Please change the shape of y to (n_samples,), for example using ravel().\n",
      "  self._final_estimator.fit(Xt, y, **fit_params)\n"
     ]
    },
    {
     "data": {
      "text/plain": [
       "Pipeline(memory=None,\n",
       "     steps=[('model', RandomForestRegressor(bootstrap=True, criterion='mse', max_depth=None,\n",
       "           max_features='auto', max_leaf_nodes=None,\n",
       "           min_impurity_decrease=0.0, min_impurity_split=None,\n",
       "           min_samples_leaf=1, min_samples_split=2,\n",
       "           min_weight_fraction_leaf=0.0, n_estimators=10, n_jobs=None,\n",
       "           oob_score=False, random_state=None, verbose=0, warm_start=False))])"
      ]
     },
     "execution_count": 16,
     "metadata": {},
     "output_type": "execute_result"
    }
   ],
   "source": [
    "pipeline_obj.fit(dataset[X],dataset[y])"
   ]
  },
  {
   "cell_type": "code",
   "execution_count": 17,
   "metadata": {},
   "outputs": [
    {
     "data": {
      "text/plain": [
       "array([4288.022, 4270.999, 3907.401, 4337.937, 4823.785, 4465.538,\n",
       "       3942.938, 4388.348, 4706.306, 4208.19 , 4053.926, 4068.644,\n",
       "       3501.325, 3777.282, 4706.696, 4807.686, 4904.493, 5540.33 ,\n",
       "       5124.037, 5327.213, 4831.129, 3751.82 , 3780.98 , 4065.431,\n",
       "       4621.671, 4203.853, 4643.088, 5054.62 , 4581.598, 4732.42 ,\n",
       "       4173.715, 3532.079, 4062.623, 3872.751, 3506.651, 4176.777,\n",
       "       3949.985, 3878.239, 4269.11 , 4495.36 , 4043.206, 4719.211,\n",
       "       4577.193, 4286.869, 4892.139, 5139.251, 4642.207, 3906.829,\n",
       "       3972.023, 4096.362, 4394.744, 4755.197, 4357.687, 4746.471,\n",
       "       5421.264, 5718.858, 5448.698, 5663.978, 4233.386, 3518.618,\n",
       "       3740.515, 3872.143, 4007.798, 3739.444, 3923.034, 4094.863,\n",
       "       4845.033, 3963.158, 3476.685, 3454.774, 3582.046, 4176.357,\n",
       "       4405.719, 3879.296, 3583.992, 3188.03 ])"
      ]
     },
     "execution_count": 17,
     "metadata": {},
     "output_type": "execute_result"
    }
   ],
   "source": [
    "pipeline_obj.predict(dataset[X])"
   ]
  },
  {
   "cell_type": "code",
   "execution_count": 18,
   "metadata": {},
   "outputs": [
    {
     "data": {
      "text/plain": [
       "['RFModelforSales.pickle']"
      ]
     },
     "execution_count": 18,
     "metadata": {},
     "output_type": "execute_result"
    }
   ],
   "source": [
    "joblib.dump(pipeline_obj,'RFModelforSales.pickle')"
   ]
  },
  {
   "cell_type": "code",
   "execution_count": 19,
   "metadata": {},
   "outputs": [],
   "source": [
    "modelReload=joblib.load('RFModelforSales.pickle')"
   ]
  },
  {
   "cell_type": "code",
   "execution_count": 20,
   "metadata": {},
   "outputs": [
    {
     "data": {
      "text/plain": [
       "array([4288.022, 4270.999, 3907.401, 4337.937, 4823.785, 4465.538,\n",
       "       3942.938, 4388.348, 4706.306, 4208.19 , 4053.926, 4068.644,\n",
       "       3501.325, 3777.282, 4706.696, 4807.686, 4904.493, 5540.33 ,\n",
       "       5124.037, 5327.213, 4831.129, 3751.82 , 3780.98 , 4065.431,\n",
       "       4621.671, 4203.853, 4643.088, 5054.62 , 4581.598, 4732.42 ,\n",
       "       4173.715, 3532.079, 4062.623, 3872.751, 3506.651, 4176.777,\n",
       "       3949.985, 3878.239, 4269.11 , 4495.36 , 4043.206, 4719.211,\n",
       "       4577.193, 4286.869, 4892.139, 5139.251, 4642.207, 3906.829,\n",
       "       3972.023, 4096.362, 4394.744, 4755.197, 4357.687, 4746.471,\n",
       "       5421.264, 5718.858, 5448.698, 5663.978, 4233.386, 3518.618,\n",
       "       3740.515, 3872.143, 4007.798, 3739.444, 3923.034, 4094.863,\n",
       "       4845.033, 3963.158, 3476.685, 3454.774, 3582.046, 4176.357,\n",
       "       4405.719, 3879.296, 3583.992, 3188.03 ])"
      ]
     },
     "execution_count": 20,
     "metadata": {},
     "output_type": "execute_result"
    }
   ],
   "source": [
    "modelReload.predict(dataset[X])"
   ]
  },
  {
   "cell_type": "code",
   "execution_count": 21,
   "metadata": {},
   "outputs": [],
   "source": [
    "temp = {}\n",
    "temp['Week']=77\n"
   ]
  },
  {
   "cell_type": "code",
   "execution_count": 22,
   "metadata": {},
   "outputs": [],
   "source": [
    "testDtaa=pd.DataFrame({'x':temp}).transpose()"
   ]
  },
  {
   "cell_type": "code",
   "execution_count": 23,
   "metadata": {},
   "outputs": [
    {
     "data": {
      "text/html": [
       "<div>\n",
       "<style scoped>\n",
       "    .dataframe tbody tr th:only-of-type {\n",
       "        vertical-align: middle;\n",
       "    }\n",
       "\n",
       "    .dataframe tbody tr th {\n",
       "        vertical-align: top;\n",
       "    }\n",
       "\n",
       "    .dataframe thead th {\n",
       "        text-align: right;\n",
       "    }\n",
       "</style>\n",
       "<table border=\"1\" class=\"dataframe\">\n",
       "  <thead>\n",
       "    <tr style=\"text-align: right;\">\n",
       "      <th></th>\n",
       "      <th>Week</th>\n",
       "    </tr>\n",
       "  </thead>\n",
       "  <tbody>\n",
       "    <tr>\n",
       "      <th>x</th>\n",
       "      <td>77</td>\n",
       "    </tr>\n",
       "  </tbody>\n",
       "</table>\n",
       "</div>"
      ],
      "text/plain": [
       "   Week\n",
       "x    77"
      ]
     },
     "execution_count": 23,
     "metadata": {},
     "output_type": "execute_result"
    }
   ],
   "source": [
    "testDtaa"
   ]
  },
  {
   "cell_type": "code",
   "execution_count": 24,
   "metadata": {},
   "outputs": [
    {
     "data": {
      "text/plain": [
       "3188.0299999999997"
      ]
     },
     "execution_count": 24,
     "metadata": {},
     "output_type": "execute_result"
    }
   ],
   "source": [
    "modelReload.predict(testDtaa)[0]"
   ]
  },
  {
   "cell_type": "code",
   "execution_count": null,
   "metadata": {},
   "outputs": [],
   "source": []
  }
 ],
 "metadata": {
  "kernelspec": {
   "display_name": "Python 3",
   "language": "python",
   "name": "python3"
  },
  "language_info": {
   "codemirror_mode": {
    "name": "ipython",
    "version": 3
   },
   "file_extension": ".py",
   "mimetype": "text/x-python",
   "name": "python",
   "nbconvert_exporter": "python",
   "pygments_lexer": "ipython3",
   "version": "3.6.8"
  }
 },
 "nbformat": 4,
 "nbformat_minor": 2
}
